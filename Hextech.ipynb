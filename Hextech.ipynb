{
 "cells": [
  {
   "cell_type": "code",
   "execution_count": 17,
   "id": "27e14a6c",
   "metadata": {},
   "outputs": [],
   "source": [
    "import pandas as pd"
   ]
  },
  {
   "cell_type": "code",
   "execution_count": 18,
   "id": "401d1db2",
   "metadata": {},
   "outputs": [],
   "source": [
    "from pyspark.sql.types import IntegerType\n",
    "from pyspark.sql.functions import substring, length, col, expr"
   ]
  },
  {
   "cell_type": "code",
   "execution_count": 19,
   "id": "e9b555b8",
   "metadata": {},
   "outputs": [],
   "source": [
    "from pyspark.sql import SparkSession\n",
    "\n",
    "spark = SparkSession.builder.appName(\"Word Count\").getOrCreate()"
   ]
  },
  {
   "cell_type": "code",
   "execution_count": 20,
   "id": "09bc6411",
   "metadata": {},
   "outputs": [],
   "source": [
    "\n",
    "df1 = spark.read.json('web_client.json') # открываем файлы через пайспарк\n",
    "df2 = spark.read.json('mobile_client.json')\n",
    "df3 = spark.read.csv('parent_operator.csv')\n",
    "df4 = spark.read.parquet('agg_usage.parquet')"
   ]
  },
  {
   "cell_type": "markdown",
   "id": "c549fdc8",
   "metadata": {},
   "source": [
    "# data_traffic"
   ]
  },
  {
   "cell_type": "code",
   "execution_count": 21,
   "id": "da164819",
   "metadata": {},
   "outputs": [],
   "source": [
    "df4_temp=df4.select('rounded_data_volume','time_key','client_id','call_type_key','roaming_type_key','network_type')    #to create aggregate rounded_data_volume by days\n",
    "df4_temp = df4_temp.withColumn(\"time_key\",expr(\"substring(time_key, 2, length(time_key))\")) # Я очистил time_key чтобы можно было просто сложить по месяцам\n",
    "df4_temp=df4_temp.where( (df4_temp.call_type_key == 'G') | (df4_temp.call_type_key == 'Y') | (df4_temp.call_type_key == 'X'))  # чтобы call_type_key принимал X Y ил G\n",
    "df4_temp=df4_temp.where( (df4_temp.roaming_type_key == 'X') | (df4_temp.roaming_type_key == 'R') | (df4_temp.roaming_type_key == 'H'))  # чтобы call_type_key принимал X Y ил G\n",
    "df4_temp = df4_temp.withColumn(\"time_key\", df4_temp[\"time_key\"].cast(IntegerType()))"
   ]
  },
  {
   "cell_type": "markdown",
   "id": "8d66179a",
   "metadata": {},
   "source": [
    "### data_4g_mb"
   ]
  },
  {
   "cell_type": "code",
   "execution_count": 22,
   "id": "d4cce2bf",
   "metadata": {},
   "outputs": [],
   "source": [
    "data_4g_mb=df4_temp.where( (df4_temp.network_type == 'L'))"
   ]
  },
  {
   "cell_type": "code",
   "execution_count": 23,
   "id": "9d1c989f",
   "metadata": {},
   "outputs": [],
   "source": [
    "\n",
    "data_4g_mb= data_4g_mb.groupBy('client_id','time_key').sum(\"rounded_data_volume\")  # тут я просто агрегирую по месяцам"
   ]
  },
  {
   "cell_type": "code",
   "execution_count": 24,
   "id": "be415be9",
   "metadata": {},
   "outputs": [],
   "source": [
    "data_4g_mb=data_4g_mb.withColumnRenamed(\"sum(rounded_data_volume)\", \"data_4g_mb\")\n",
    "data_4g_mb=data_4g_mb.withColumn(\"data_4g_mb\", data_4g_mb.data_4g_mb/(1024*1024))"
   ]
  },
  {
   "cell_type": "code",
   "execution_count": 25,
   "id": "b8c0bba5",
   "metadata": {},
   "outputs": [],
   "source": [
    "# data_4g_mb.show()"
   ]
  },
  {
   "cell_type": "markdown",
   "id": "3d819fb2",
   "metadata": {},
   "source": [
    "### data_all_mb"
   ]
  },
  {
   "cell_type": "code",
   "execution_count": 26,
   "id": "873ae7fd",
   "metadata": {},
   "outputs": [],
   "source": [
    "\n",
    "data_all_mb= df4_temp.groupBy('client_id','time_key').sum(\"rounded_data_volume\")  # тут я просто агрегирую по месяцам\n",
    "data_all_mb=data_all_mb.withColumnRenamed(\"sum(rounded_data_volume)\", \"data_all_mb\")\n",
    "data_all_mb=data_all_mb.select('data_all_mb','client_id')\n",
    "data_all_mb=data_all_mb.withColumn('data_all_mb', data_all_mb.data_all_mb/(1024*1024))"
   ]
  },
  {
   "cell_type": "code",
   "execution_count": 27,
   "id": "79c6ac2e",
   "metadata": {},
   "outputs": [],
   "source": [
    "# data_all_mb.show() "
   ]
  },
  {
   "cell_type": "markdown",
   "id": "afe15521",
   "metadata": {},
   "source": [
    "### data_3g_mb"
   ]
  },
  {
   "cell_type": "code",
   "execution_count": 28,
   "id": "eaf568ca",
   "metadata": {},
   "outputs": [],
   "source": [
    "data_3g_mb=df4_temp.where( (df4_temp.network_type == 'G'))\n",
    "data_3g_mb=data_3g_mb.groupBy('client_id','time_key').sum(\"rounded_data_volume\")  # тут я просто агрегирую по месяцам\n",
    "data_3g_mb=data_3g_mb.withColumnRenamed(\"sum(rounded_data_volume)\", \"data_3g_mb\")\n",
    "data_3g_mb=data_3g_mb.select('data_3g_mb','client_id')\n",
    "data_3g_mb=data_3g_mb.withColumn('data_3g_mb', data_3g_mb.data_3g_mb/(1024*1024))"
   ]
  },
  {
   "cell_type": "code",
   "execution_count": 29,
   "id": "478df864",
   "metadata": {},
   "outputs": [],
   "source": [
    "# data_3g_mb.show() "
   ]
  },
  {
   "cell_type": "markdown",
   "id": "2f2bfa5a",
   "metadata": {},
   "source": [
    "### data_traffic"
   ]
  },
  {
   "cell_type": "code",
   "execution_count": 30,
   "id": "d41276c5",
   "metadata": {},
   "outputs": [],
   "source": [
    "data_traffic=data_4g_mb.join(data_all_mb,'client_id','left')\n",
    "data_traffic=data_traffic.join(data_3g_mb,'client_id','left') #соединяю все в один файл"
   ]
  },
  {
   "cell_type": "code",
   "execution_count": 31,
   "id": "e83ef33b",
   "metadata": {},
   "outputs": [],
   "source": [
    "# data_traffic.show()"
   ]
  }
 ],
 "metadata": {
  "kernelspec": {
   "display_name": "Python 3",
   "language": "python",
   "name": "python3"
  },
  "language_info": {
   "codemirror_mode": {
    "name": "ipython",
    "version": 3
   },
   "file_extension": ".py",
   "mimetype": "text/x-python",
   "name": "python",
   "nbconvert_exporter": "python",
   "pygments_lexer": "ipython3",
   "version": "3.8.8"
  }
 },
 "nbformat": 4,
 "nbformat_minor": 5
}
